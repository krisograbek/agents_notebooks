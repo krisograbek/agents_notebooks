{
 "cells": [
  {
   "cell_type": "code",
   "execution_count": 1,
   "metadata": {},
   "outputs": [
    {
     "data": {
      "text/plain": [
       "True"
      ]
     },
     "execution_count": 1,
     "metadata": {},
     "output_type": "execute_result"
    }
   ],
   "source": [
    "from dotenv import load_dotenv\n",
    "\n",
    "load_dotenv()"
   ]
  },
  {
   "cell_type": "code",
   "execution_count": 2,
   "metadata": {},
   "outputs": [
    {
     "name": "stdout",
     "output_type": "stream",
     "text": [
      "[TextBlock(text=\"Hello! It's nice to meet you. How can I assist you today?\", type='text')]\n"
     ]
    }
   ],
   "source": [
    "from anthropic import Anthropic\n",
    "\n",
    "client = Anthropic(\n",
    "    # This is the default and can be omitted\n",
    "    # api_key=os.environ.get(\"ANTHROPIC_API_KEY\"),\n",
    ")\n",
    "\n",
    "model=\"claude-3-5-sonnet-20240620\"\n",
    "\n",
    "message = client.messages.create(\n",
    "    max_tokens=1024,\n",
    "    messages=[\n",
    "        {\n",
    "            \"role\": \"user\",\n",
    "            \"content\": \"Hello, Claude\",\n",
    "        }\n",
    "    ],\n",
    "    model=model,\n",
    ")\n",
    "print(message.content)"
   ]
  },
  {
   "cell_type": "code",
   "execution_count": 4,
   "metadata": {},
   "outputs": [
    {
     "name": "stdout",
     "output_type": "stream",
     "text": [
      "Hello! It's nice to meet you. How can I assist you today?\n"
     ]
    }
   ],
   "source": [
    "print(message.content[0].text)"
   ]
  },
  {
   "cell_type": "markdown",
   "metadata": {},
   "source": [
    "Include system message"
   ]
  },
  {
   "cell_type": "code",
   "execution_count": 5,
   "metadata": {},
   "outputs": [
    {
     "name": "stdout",
     "output_type": "stream",
     "text": [
      "[TextBlock(text=\"A poetic response on how to get rich:\\n\\nWealth's pursuit, a common quest,\\nBut riches come to those who invest\\nTime, effort, and wisdom too,\\nIn skills and knowledge tried and true.\\n\\nSave your pennies, spend with care,\\nBuild your fortune, layer by layer.\\nSeek opportunities, take calculated risks,\\nBut avoid the lure of get-rich-quick tricks.\\n\\nInnovate, create, or fill a need,\\nLet passion and purpose be your creed.\\nNetwork wisely, learn from the best,\\nAnd in your chosen field, outshine the rest.\\n\\nRemember, true wealth is more than gold,\\nIt's health, love, and dreams fulfilled, we're told.\\nSo as you climb the ladder high,\\nKeep your values close, reach for the sky.\", type='text')]\n"
     ]
    }
   ],
   "source": [
    "response = client.messages.create(\n",
    "    max_tokens=1024,\n",
    "    system=\"You always response in a poem style\",\n",
    "    messages=[\n",
    "        {\n",
    "            \"role\": \"user\",\n",
    "            \"content\": \"How to get rich?\"\n",
    "        }\n",
    "    ],\n",
    "    model=model,\n",
    "    temperature=0.5\n",
    ")\n",
    "\n",
    "print(response.content)"
   ]
  },
  {
   "cell_type": "code",
   "execution_count": 6,
   "metadata": {},
   "outputs": [
    {
     "name": "stdout",
     "output_type": "stream",
     "text": [
      "A poetic response on how to get rich:\n",
      "\n",
      "Wealth's pursuit, a common quest,\n",
      "But riches come to those who invest\n",
      "Time, effort, and wisdom too,\n",
      "In skills and knowledge tried and true.\n",
      "\n",
      "Save your pennies, spend with care,\n",
      "Build your fortune, layer by layer.\n",
      "Seek opportunities, take calculated risks,\n",
      "But avoid the lure of get-rich-quick tricks.\n",
      "\n",
      "Innovate, create, or fill a need,\n",
      "Let passion and purpose be your creed.\n",
      "Network wisely, learn from the best,\n",
      "And in your chosen field, outshine the rest.\n",
      "\n",
      "Remember, true wealth is more than gold,\n",
      "It's health, love, and dreams fulfilled, we're told.\n",
      "So as you climb the ladder high,\n",
      "Keep your values close, reach for the sky.\n"
     ]
    }
   ],
   "source": [
    "print(response.content[0].text)"
   ]
  },
  {
   "cell_type": "code",
   "execution_count": 11,
   "metadata": {},
   "outputs": [
    {
     "name": "stdout",
     "output_type": "stream",
     "text": [
      "Hello! It's\n",
      " nice to meet you\n",
      ". How\n",
      " can\n",
      " I assist\n",
      " you today?\n"
     ]
    }
   ],
   "source": [
    "from anthropic import Anthropic\n",
    "\n",
    "client = Anthropic()\n",
    "\n",
    "stream = client.messages.create(\n",
    "    max_tokens=1024,\n",
    "    messages=[\n",
    "        {\n",
    "            \"role\": \"user\",\n",
    "            \"content\": \"Hello, Claude\",\n",
    "        }\n",
    "    ],\n",
    "    model=model,\n",
    "    stream=True,\n",
    ")\n",
    "for event in stream:\n",
    "    if event.type == \"content_block_delta\":\n",
    "        print(event.delta.text)"
   ]
  },
  {
   "cell_type": "code",
   "execution_count": null,
   "metadata": {},
   "outputs": [],
   "source": []
  }
 ],
 "metadata": {
  "kernelspec": {
   "display_name": "venv",
   "language": "python",
   "name": "python3"
  },
  "language_info": {
   "codemirror_mode": {
    "name": "ipython",
    "version": 3
   },
   "file_extension": ".py",
   "mimetype": "text/x-python",
   "name": "python",
   "nbconvert_exporter": "python",
   "pygments_lexer": "ipython3",
   "version": "3.9.12"
  }
 },
 "nbformat": 4,
 "nbformat_minor": 2
}
