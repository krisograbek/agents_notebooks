{
 "cells": [
  {
   "cell_type": "markdown",
   "metadata": {},
   "source": [
    "In this notebook I want to combine Anthropic with LangChain. Let's see how different it is.\n",
    "\n",
    "Ideas:\n",
    "- compare Claude with GPT-4o\n",
    "- "
   ]
  },
  {
   "cell_type": "code",
   "execution_count": 1,
   "metadata": {},
   "outputs": [
    {
     "data": {
      "text/plain": [
       "True"
      ]
     },
     "execution_count": 1,
     "metadata": {},
     "output_type": "execute_result"
    }
   ],
   "source": [
    "from dotenv import load_dotenv\n",
    "\n",
    "load_dotenv()"
   ]
  },
  {
   "cell_type": "code",
   "execution_count": 8,
   "metadata": {},
   "outputs": [],
   "source": [
    "from langchain_anthropic import ChatAnthropic\n",
    "from langchain_openai import ChatOpenAI\n",
    "\n",
    "claude = ChatAnthropic(model='claude-3-5-sonnet-20240620')\n",
    "gpt4 = ChatOpenAI(model=\"gpt-4o\")"
   ]
  },
  {
   "cell_type": "markdown",
   "metadata": {},
   "source": [
    "### LinkedIn Posts\n",
    "\n",
    "I will ask GPT-4o and Claude-3.5-Sonnet to write LinkedIn posts on a topic.\n",
    "I'm thinking about:\n",
    "- giving only the topic\n",
    "- adding some context\n"
   ]
  },
  {
   "cell_type": "code",
   "execution_count": 3,
   "metadata": {},
   "outputs": [],
   "source": [
    "from langchain_core.output_parsers import StrOutputParser\n",
    "from langchain_core.prompts import ChatPromptTemplate\n",
    "\n",
    "def write_post(model, topic):\n",
    "    prompt = ChatPromptTemplate.from_template(\"Write a LinkedIn post about {topic}\")\n",
    "    output_parser = StrOutputParser()\n",
    "    \n",
    "    chain = prompt | model | output_parser\n",
    "    response = chain.invoke({\"topic\": topic})\n",
    "    return response"
   ]
  },
  {
   "cell_type": "code",
   "execution_count": 5,
   "metadata": {},
   "outputs": [],
   "source": [
    "topic = \"the importance of Python Programming for aspiring AI Engineers\"\n",
    "\n",
    "claude_post = write_post(claude, topic)\n",
    "# gpt_post = write_post(gpt4, topic)"
   ]
  },
  {
   "cell_type": "code",
   "execution_count": 7,
   "metadata": {},
   "outputs": [
    {
     "name": "stdout",
     "output_type": "stream",
     "text": [
      "Here's a draft LinkedIn post about the importance of Python programming for aspiring AI Engineers:\n",
      "\n",
      "---\n",
      "\n",
      "🐍 Why Python is Essential for Aspiring AI Engineers 🤖\n",
      "\n",
      "As artificial intelligence continues to reshape industries, the demand for skilled AI engineers is skyrocketing. If you're aspiring to enter this exciting field, mastering Python should be at the top of your to-do list. Here's why:\n",
      "\n",
      "1. 📊 Data Handling: Python excels at processing and manipulating large datasets, a crucial skill in AI and machine learning.\n",
      "\n",
      "2. 🧠 ML Libraries: Popular machine learning libraries like TensorFlow, PyTorch, and scikit-learn are Python-based, making it the go-to language for AI development.\n",
      "\n",
      "3. 🔧 Versatility: From data preprocessing to model deployment, Python covers the entire AI pipeline.\n",
      "\n",
      "4. 🚀 Rapid Prototyping: Python's simplicity allows for quick iteration and testing of AI models.\n",
      "\n",
      "5. 👥 Community Support: A vast community of developers means abundant resources, tutorials, and troubleshooting help.\n",
      "\n",
      "6. 🔍 Natural Language Processing: Libraries like NLTK and spaCy make Python ideal for text-based AI applications.\n",
      "\n",
      "7. 🖼️ Computer Vision: OpenCV and other Python libraries are essential for image and video processing in AI.\n",
      "\n",
      "8. 🔗 Integration: Python easily integrates with other languages and tools, enhancing its utility in complex AI systems.\n",
      "\n",
      "Remember, while Python is crucial, it's just the beginning. Combine it with strong math skills, domain knowledge, and continuous learning to thrive in the AI field!\n",
      "\n",
      "#ArtificialIntelligence #PythonProgramming #MachineLearning #CareerDevelopment #TechSkills\n",
      "\n",
      "What's your experience with Python in AI? Share your thoughts below! 👇\n",
      "\n",
      "---\n",
      "\n",
      "Feel free to modify this post to better fit your personal voice and experience. You can also add or remove points based on what you feel is most relevant to your network.\n"
     ]
    }
   ],
   "source": [
    "print(claude_post)"
   ]
  },
  {
   "cell_type": "code",
   "execution_count": 9,
   "metadata": {},
   "outputs": [],
   "source": [
    "gpt_post = write_post(gpt4, topic)"
   ]
  },
  {
   "cell_type": "code",
   "execution_count": 10,
   "metadata": {},
   "outputs": [
    {
     "name": "stdout",
     "output_type": "stream",
     "text": [
      "🚀 **The Importance of Python Programming for Aspiring AI Engineers** 🚀\n",
      "\n",
      "In the rapidly evolving world of Artificial Intelligence, one language has emerged as the gold standard for aspiring AI engineers: Python. Whether you're just beginning your AI journey or looking to level up your skills, here's why Python should be your go-to language:\n",
      "\n",
      "🔍 **Simplicity and Readability**: Python's syntax is clear and intuitive, making it accessible for beginners and allowing seasoned programmers to focus on solving complex problems rather than wrestling with language intricacies.\n",
      "\n",
      "📚 **Extensive Libraries and Frameworks**: Python boasts a rich ecosystem of libraries and frameworks such as TensorFlow, PyTorch, Keras, Scikit-learn, and many more. These tools simplify the process of developing and deploying AI models, enabling you to build sophisticated systems with less effort.\n",
      "\n",
      "🌐 **Strong Community Support**: Python has a vibrant and active community. Whether you're debugging an issue, optimizing your code, or exploring the latest AI trends, a wealth of resources and forums are at your fingertips. Stack Overflow, GitHub, and various Python-centric communities are invaluable for continuous learning and support.\n",
      "\n",
      "📈 **Versatility and Integration**: Python isn't just limited to AI; it's a versatile language that can be used for web development, data analysis, automation, and more. This versatility means you can integrate AI models seamlessly into broader applications, making your projects more robust and feature-rich.\n",
      "\n",
      "⚡ **Industry Adoption**: Major tech companies and research institutions prefer Python for AI development. By mastering Python, you're aligning your skills with industry standards, enhancing your employability and opening doors to exciting career opportunities.\n",
      "\n",
      "🌟 **Innovation and Research**: The AI landscape is constantly advancing, and Python is at the forefront of this innovation. From natural language processing to computer vision, Python enables you to contribute to cutting-edge research and groundbreaking projects.\n",
      "\n",
      "In conclusion, Python is more than just a programming language; it's a gateway to mastering AI. If you're an aspiring AI engineer, investing time in learning Python will pay dividends in your career, providing you with the tools and community support to turn your AI aspirations into reality.\n",
      "\n",
      "Happy coding! 🧑‍💻👩‍💻\n",
      "\n",
      "#Python #AI #ArtificialIntelligence #MachineLearning #DeepLearning #AIEngineer #Programming #Tech #Innovation #CareerDevelopment\n"
     ]
    }
   ],
   "source": [
    "print(gpt_post)"
   ]
  },
  {
   "cell_type": "code",
   "execution_count": null,
   "metadata": {},
   "outputs": [],
   "source": []
  }
 ],
 "metadata": {
  "kernelspec": {
   "display_name": "venv",
   "language": "python",
   "name": "python3"
  },
  "language_info": {
   "codemirror_mode": {
    "name": "ipython",
    "version": 3
   },
   "file_extension": ".py",
   "mimetype": "text/x-python",
   "name": "python",
   "nbconvert_exporter": "python",
   "pygments_lexer": "ipython3",
   "version": "3.9.12"
  }
 },
 "nbformat": 4,
 "nbformat_minor": 2
}
