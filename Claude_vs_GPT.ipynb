{
 "cells": [
  {
   "cell_type": "code",
   "execution_count": 1,
   "metadata": {},
   "outputs": [
    {
     "data": {
      "text/plain": [
       "True"
      ]
     },
     "execution_count": 1,
     "metadata": {},
     "output_type": "execute_result"
    }
   ],
   "source": [
    "from dotenv import load_dotenv\n",
    "\n",
    "load_dotenv()"
   ]
  },
  {
   "cell_type": "markdown",
   "metadata": {},
   "source": [
    "### Setting up the clients"
   ]
  },
  {
   "cell_type": "markdown",
   "metadata": {},
   "source": [
    "**OpenAI**"
   ]
  },
  {
   "cell_type": "code",
   "execution_count": 5,
   "metadata": {},
   "outputs": [],
   "source": [
    "from openai import OpenAI\n",
    "\n",
    "oai_client = OpenAI()\n",
    "oai_model = \"gpt-4o\"\n",
    "\n",
    "oai_response = oai_client.chat.completions.create(\n",
    "    model=oai_model,\n",
    "    temperature=0.5,\n",
    "    messages=[\n",
    "        {\"role\": \"system\", \"content\": \"You always response in a poem style\" },\n",
    "        {\"role\": \"user\", \"content\": \"How to get rich?\"}\n",
    "    ]\n",
    ")"
   ]
  },
  {
   "cell_type": "code",
   "execution_count": 6,
   "metadata": {},
   "outputs": [
    {
     "name": "stdout",
     "output_type": "stream",
     "text": [
      "To seek the path where riches lie,\n",
      "One must be wise, not simply try.\n",
      "A blend of skills, a dash of luck,\n",
      "And perseverance when you're stuck.\n",
      "\n",
      "Invest your time in what you know,\n",
      "Let passion be the seeds you sow.\n",
      "Learn to save and spend with care,\n",
      "Opportunities are everywhere.\n",
      "\n",
      "Diversify, don't place one bet,\n",
      "In varied streams, your wealth is set.\n",
      "Embrace the change, adapt, evolve,\n",
      "For stagnant minds, no problems solve.\n",
      "\n",
      "Network wide, build bridges strong,\n",
      "In unity, we all belong.\n",
      "Stay humble, kind, and always learn,\n",
      "For wisdom is the richest earn.\n",
      "\n",
      "Remember though, that wealth is more\n",
      "Than coins and bills and profit’s score.\n",
      "True riches lie in love and peace,\n",
      "In moments shared, and inner ease.\n"
     ]
    }
   ],
   "source": [
    "print(oai_response.choices[0].message.content)"
   ]
  },
  {
   "cell_type": "markdown",
   "metadata": {},
   "source": [
    "**Anthropic**"
   ]
  },
  {
   "cell_type": "code",
   "execution_count": 7,
   "metadata": {},
   "outputs": [
    {
     "name": "stdout",
     "output_type": "stream",
     "text": [
      "Wealth's pursuit, a common dream,\n",
      "Not as simple as it may seem.\n",
      "A path of toil, sweat, and might,\n",
      "With wisdom's torch to guide your sight.\n",
      "\n",
      "Invest your time in skills and learning,\n",
      "For knowledge is forever earning.\n",
      "Save with vigor, spend with care,\n",
      "Build a cushion for times less fair.\n",
      "\n",
      "Seek opportunities, take calculated risks,\n",
      "But avoid the pitfalls and fiscal disks.\n",
      "Diversify your streams of gain,\n",
      "Let compound interest be your refrain.\n",
      "\n",
      "Remember, true wealth is not just gold,\n",
      "But health and love and dreams untold.\n",
      "For riches come in many forms,\n",
      "Beyond mere money's fleeting norms.\n",
      "\n",
      "So work with passion, stay the course,\n",
      "And let integrity be your force.\n",
      "For wealth built slow on solid ground,\n",
      "Is wealth that's likely to astound.\n"
     ]
    }
   ],
   "source": [
    "from anthropic import Anthropic\n",
    "\n",
    "ant_client = Anthropic(\n",
    "    # This is the default and can be omitted\n",
    "    # api_key=os.environ.get(\"ANTHROPIC_API_KEY\"),\n",
    ")\n",
    "\n",
    "ant_model=\"claude-3-5-sonnet-20240620\"\n",
    "message = ant_client.messages.create(\n",
    "    max_tokens=1024,\n",
    "    system=\"You always response in a poem style\",\n",
    "    temperature=0.5,\n",
    "    messages=[\n",
    "        {\n",
    "            \"role\": \"user\",\n",
    "            \"content\": \"How to get rich?\",\n",
    "        }\n",
    "    ],\n",
    "    model=ant_model,\n",
    ")\n",
    "\n",
    "print(message.content[0].text)"
   ]
  },
  {
   "cell_type": "code",
   "execution_count": null,
   "metadata": {},
   "outputs": [],
   "source": []
  }
 ],
 "metadata": {
  "kernelspec": {
   "display_name": "venv",
   "language": "python",
   "name": "python3"
  },
  "language_info": {
   "codemirror_mode": {
    "name": "ipython",
    "version": 3
   },
   "file_extension": ".py",
   "mimetype": "text/x-python",
   "name": "python",
   "nbconvert_exporter": "python",
   "pygments_lexer": "ipython3",
   "version": "3.9.12"
  }
 },
 "nbformat": 4,
 "nbformat_minor": 2
}
